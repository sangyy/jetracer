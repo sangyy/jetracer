{
 "cells": [
  {
   "cell_type": "markdown",
   "metadata": {},
   "source": [
    "### 重置摄像头"
   ]
  },
  {
   "cell_type": "code",
   "execution_count": null,
   "metadata": {},
   "outputs": [],
   "source": [
    "!echo 'jetson' | sudo -S systemctl restart nvargus-daemon && printf '\\n'"
   ]
  },
  {
   "cell_type": "markdown",
   "metadata": {},
   "source": [
    "### 初始化"
   ]
  },
  {
   "cell_type": "code",
   "execution_count": null,
   "metadata": {},
   "outputs": [],
   "source": [
    "import torch\n",
    "import torchvision\n",
    "from torch2trt import torch2trt\n",
    "from torch2trt import TRTModule\n",
    "\n",
    "TASK=\"test\"\n",
    "\n",
    "CATEGORIES = ['apex']\n",
    "\n",
    "device = torch.device('cuda')\n",
    "model = torchvision.models.resnet18(pretrained=False)\n",
    "model.fc = torch.nn.Linear(512, 2 * len(CATEGORIES))\n",
    "model = model.cuda().eval().half()\n",
    "model.load_state_dict(torch.load(TASK+'/path/model.pth'))\n",
    "\n",
    "data = torch.zeros((1, 3, 224, 224)).cuda().half()\n",
    "\n",
    "model_trt = torch2trt(model, [data], fp16_mode=True)\n",
    "\n",
    "torch.save(model_trt.state_dict(), TASK+'/road_model_trt.pth')\n",
    "\n",
    "model_trt = TRTModule()\n",
    "model_trt.load_state_dict(torch.load(TASK+'/road_model_trt.pth'))\n",
    "\n",
    "from jetracer.nvidia_racecar import NvidiaRacecar\n",
    "\n",
    "car = NvidiaRacecar()"
   ]
  },
  {
   "cell_type": "markdown",
   "metadata": {},
   "source": [
    "初始化摄像头"
   ]
  },
  {
   "cell_type": "code",
   "execution_count": null,
   "metadata": {},
   "outputs": [],
   "source": [
    "from jetcam.csi_camera import CSICamera\n",
    "\n",
    "camera = CSICamera(width=224, height=224, capture_fps=65)"
   ]
  },
  {
   "cell_type": "markdown",
   "metadata": {},
   "source": [
    "开始跑"
   ]
  },
  {
   "cell_type": "code",
   "execution_count": null,
   "metadata": {},
   "outputs": [],
   "source": [
    "from utils import preprocess\n",
    "import numpy as np\n",
    "import threading\n",
    "import ipywidgets\n",
    "import time\n",
    "import cv2\n",
    "from jetcam.utils import bgr8_to_jpeg\n",
    "\n",
    "car.steering_gain = -0.55\n",
    "car.steering_offset = -0.13\n",
    "car.throttle_gain = 0.5\n",
    "# car.throttle = 0.25\n",
    "speed_widget = ipywidgets.IntText(description='速度', value=20)\n",
    "run_button = ipywidgets.Button(description='启动')\n",
    "state = 1\n",
    "prediction_widget = ipywidgets.Image(format='jpeg', width=224, height=224)\n",
    "\n",
    "def run(car,camera,speed_widget,run_button,prediction_widget):\n",
    "    global state\n",
    "    while True:\n",
    "        image = camera.read()\n",
    "        prediction = image.copy()\n",
    "        image = preprocess(image).half()\n",
    "        output = model_trt(image).detach().cpu().numpy().flatten()\n",
    "        dx = output[0]\n",
    "        dy = output[1]\n",
    "\n",
    "        dx = int(224 * (dx / 2.0 + 0.5))\n",
    "        dy = int(224 * (dy / 2.0 + 0.5))\n",
    "\n",
    "        \n",
    "        prediction = cv2.circle(prediction, (dx, dy), 8, (255, 0, 0), 3)\n",
    "        prediction_widget.value = bgr8_to_jpeg(prediction)\n",
    "        \n",
    "        if (state == 1):\n",
    "            if car.throttle>0 :\n",
    "                car.throttle = -10\n",
    "            else :\n",
    "                car.throttle = 0\n",
    "            car.steering = 0\n",
    "            time.sleep(0.5)\n",
    "        else:\n",
    "            x = float(output[0])\n",
    "            #car.steering = x * STEERING_GAIN + STEERING_BIAS\n",
    "            car.steering = x\n",
    "            car.throttle = speed_widget.value*0.01\n",
    "            \n",
    "\n",
    "        \n",
    "        \n",
    "execute_thread = threading.Thread(target=run, args=(car,camera,speed_widget,run_button,prediction_widget))\n",
    "\n",
    "def runclick(c):\n",
    "    global state\n",
    "    print(run_button.description)\n",
    "    if run_button.description == '启动':\n",
    "        run_button.description = '停止'\n",
    "        state = 0\n",
    "    else:\n",
    "        run_button.description = '启动'\n",
    "        state = 1\n",
    "\n",
    "run_button.on_click(runclick)\n",
    "\n",
    "data_collection_widget = ipywidgets.HBox([\n",
    "    run_button,\n",
    "    speed_widget\n",
    "])\n",
    "data_display_widget = ipywidgets.VBox([\n",
    "    prediction_widget,\n",
    "    data_collection_widget\n",
    "])\n",
    "\n",
    "display(data_display_widget)\n",
    "execute_thread.start()\n"
   ]
  },
  {
   "cell_type": "code",
   "execution_count": null,
   "metadata": {},
   "outputs": [],
   "source": []
  }
 ],
 "metadata": {
  "kernelspec": {
   "display_name": "Python 3",
   "language": "python",
   "name": "python3"
  },
  "language_info": {
   "codemirror_mode": {
    "name": "ipython",
    "version": 3
   },
   "file_extension": ".py",
   "mimetype": "text/x-python",
   "name": "python",
   "nbconvert_exporter": "python",
   "pygments_lexer": "ipython3",
   "version": "3.6.8"
  }
 },
 "nbformat": 4,
 "nbformat_minor": 2
}
