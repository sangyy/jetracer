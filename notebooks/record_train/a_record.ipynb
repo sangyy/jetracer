{
 "cells": [
  {
   "cell_type": "markdown",
   "metadata": {},
   "source": [
    "### 初始化摄像头"
   ]
  },
  {
   "cell_type": "code",
   "execution_count": 1,
   "metadata": {},
   "outputs": [
    {
     "name": "stdout",
     "output_type": "stream",
     "text": [
      "[sudo] password for jetson: \n"
     ]
    }
   ],
   "source": [
    "!echo 'jetson' | sudo -S systemctl restart nvargus-daemon && printf '\\n'"
   ]
  },
  {
   "cell_type": "code",
   "execution_count": 2,
   "metadata": {},
   "outputs": [],
   "source": [
    "from jetcam.csi_camera import CSICamera\n",
    "# from jetcam.usb_camera import USBCamera\n",
    "\n",
    "camera = CSICamera(width=224, height=224)\n",
    "# camera = USBCamera(width=224, height=224)\n",
    "camera.running = True"
   ]
  },
  {
   "cell_type": "markdown",
   "metadata": {},
   "source": [
    "### 初始化任务"
   ]
  },
  {
   "cell_type": "code",
   "execution_count": 3,
   "metadata": {},
   "outputs": [],
   "source": [
    "from imagelist import ImageList\n",
    "\n",
    "TASK = 'city_1018_1'\n",
    "global imagelist\n",
    "imagelist = ImageList(TASK+'/record')"
   ]
  },
  {
   "cell_type": "markdown",
   "metadata": {},
   "source": [
    "### 收集数据"
   ]
  },
  {
   "cell_type": "code",
   "execution_count": 4,
   "metadata": {},
   "outputs": [
    {
     "data": {
      "application/vnd.jupyter.widget-view+json": {
       "model_id": "e48a1eb6b4a247889f1e7dfd8743b243",
       "version_major": 2,
       "version_minor": 0
      },
      "text/plain": [
       "VBox(children=(HBox(children=(Image(value=b'', height='224', width='224'),)), Button(description='显示视频(影响性能)',…"
      ]
     },
     "metadata": {},
     "output_type": "display_data"
    }
   ],
   "source": [
    "import cv2\n",
    "import ipywidgets\n",
    "import traitlets\n",
    "from IPython.display import display\n",
    "from jetcam.utils import bgr8_to_jpeg\n",
    "import threading\n",
    "import time\n",
    "\n",
    "\n",
    "# unobserve all callbacks from camera in case we are running this cell for second time\n",
    "camera.unobserve_all()\n",
    "\n",
    "# create image preview\n",
    "camera_widget = ipywidgets.Image(width=camera.width, height=camera.height)\n",
    "recor_button = ipywidgets.Button(description='记录')\n",
    "show_button = ipywidgets.Button(description='显示视频(影响性能)')\n",
    "global dl\n",
    "# def showCamera(c):\n",
    "#     if (show_button.description == '显示视频(影响性能)'):\n",
    "#         show_button.description = '关闭视频'\n",
    "#         dl = traitlets.dlink((camera, 'value'), (camera_widget, 'value'), transform=bgr8_to_jpeg)\n",
    "#     else:\n",
    "#         show_button.description = '显示视频(影响性能)'\n",
    "#         dl.unlink()\n",
    "        \n",
    "def showCamera(c):        \n",
    "    traitlets.dlink((camera, 'value'), (camera_widget, 'value'), transform=bgr8_to_jpeg)\n",
    "show_button.on_click(showCamera)\n",
    "\n",
    "# create widgets\n",
    "count_widget = ipywidgets.IntText(description='count')\n",
    "global state\n",
    "state = 1\n",
    "# manually update counts at initialization\n",
    "count_widget.value = imagelist.get_count()\n",
    "def record(camera,count_widget):\n",
    "    \n",
    "    while True :\n",
    "         if (state!=1):\n",
    "            image = camera.value\n",
    "            imagelist.save_entry(image)\n",
    "            count_widget.value = imagelist.get_count()\n",
    "            time.sleep(0.2)\n",
    "\n",
    "\n",
    "execute_thread = threading.Thread(target=record, args=( camera,count_widget))\n",
    "\n",
    "def recordclick(c):\n",
    "    global state\n",
    "    if recor_button.description == '记录':\n",
    "        recor_button.description = '停止'\n",
    "        state = 0\n",
    "    else:\n",
    "        recor_button.description = '记录'\n",
    "        state = 1\n",
    "recor_button.on_click(recordclick)\n",
    "\n",
    "data_collection_widget = ipywidgets.VBox([\n",
    "    ipywidgets.HBox([camera_widget]),\n",
    "    show_button,\n",
    "    recor_button,\n",
    "    count_widget\n",
    "])\n",
    "\n",
    "display(data_collection_widget)\n",
    "\n",
    "execute_thread.start()"
   ]
  },
  {
   "cell_type": "code",
   "execution_count": null,
   "metadata": {},
   "outputs": [],
   "source": []
  },
  {
   "cell_type": "code",
   "execution_count": null,
   "metadata": {},
   "outputs": [],
   "source": []
  }
 ],
 "metadata": {
  "kernelspec": {
   "display_name": "Python 3",
   "language": "python",
   "name": "python3"
  },
  "language_info": {
   "codemirror_mode": {
    "name": "ipython",
    "version": 3
   },
   "file_extension": ".py",
   "mimetype": "text/x-python",
   "name": "python",
   "nbconvert_exporter": "python",
   "pygments_lexer": "ipython3",
   "version": "3.6.8"
  }
 },
 "nbformat": 4,
 "nbformat_minor": 2
}
